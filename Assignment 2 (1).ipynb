{
 "cells": [
  {
   "cell_type": "markdown",
   "id": "9a518d52-7cc4-4514-9735-cf6d78790ba9",
   "metadata": {},
   "source": [
    "Q1. How do you comment code in Python? What are the different types of comments?\n",
    "\n",
    "Ans. # this is how you can comment by using hash for single line only.\n",
    "    There are two types of comments in python.\n",
    "    Single Line comment\n",
    "    Multi line comment\n",
    "Ex: # This is a single-line comment in Python\n",
    "\n",
    "        \"\"\"\n",
    "       This is a multi-line comment in Python.\n",
    "        It can span multiple lines and is often used\n",
    "        to document functions, modules, or classes.\n",
    "        \"\"\"\n",
    " "
   ]
  },
  {
   "cell_type": "code",
   "execution_count": null,
   "id": "00065d9c-8efe-431a-ae45-706e4caf239a",
   "metadata": {},
   "outputs": [],
   "source": []
  },
  {
   "cell_type": "raw",
   "id": "4ca858fb-7e60-48a5-85e2-1db0e6e598fd",
   "metadata": {},
   "source": [
    "Q2. What are variables in Python? How do you declare and assign values to variables?\n",
    "\n",
    "Ans: In Python, variables are used to store data values that can be accessed and manipulated during \n",
    "     the execution of a program.Variables act as placeholders for various types of data, such as numbers, text, or objects.\n",
    "\n",
    "\n",
    "    To declare a variable in Python, you simply choose a name for the variable and use the assignment operator (=) to assign a value to it. \n",
    "\n",
    "     variable_name = value\n",
    "\n",
    "     message = \"Hello, World!\"\n"
   ]
  },
  {
   "cell_type": "markdown",
   "id": "6fcd1f25-b91a-4995-ba14-c60225c10fcb",
   "metadata": {},
   "source": [
    "Q3. How do you convert one data type to another in Python?\n",
    "\n",
    "Ans :  This function converts a value to a string representation.\n",
    "      int_num = 457 \n",
    "      \n",
    "      num_str = str(int_num)\n",
    "      \n",
    "        output : '457'\n",
    "    "
   ]
  },
  {
   "cell_type": "markdown",
   "id": "44ca20af-c052-4595-8a63-3588f6d933fd",
   "metadata": {},
   "source": [
    "Q4. How do you write and execute a Python script from the command line?\n",
    "\n",
    "Ans:(1) Open a text editor and create a new file with a .py extension. \n",
    "        This extension is commonly used for Python scripts. For example, \n",
    "        let's create a file named script.py.\n",
    "        \n",
    "     (2) Write your Python code inside the script file. You can include\n",
    "         any valid Python code in this file. For example, let's write a simple\n",
    "         script that prints \"Hello, World!\" to the console:\n",
    "         \n",
    "         print(\"Hello, World!\")\n",
    "         \n",
    "      (3)Save the file after you have written your code.\n",
    "\n",
    "      (4)Open the command line or terminal on your computer.\n",
    "\n",
    "    (5)Navigate to the directory where your script file is located using the cd command. \n",
    "       For example, if your script file is on the desktop and you are using Windows, you can \n",
    "       navigate to the desktop using the command:\n",
    "       \n",
    "       cd C:\\Users\\YourUsername\\Desktop\n",
    "\n",
    "     (6) Once you are in the correct directory, you can execute the Python script by typing python followed by the name of the script file. \n",
    "        For example:\n",
    "        python script.py\n",
    "        \n",
    "        This command tells Python to run the script file using the Python interpreter.\n",
    "        The output of your script, in this case, \"Hello, World!\", should be displayed in the console.\n",
    "\n",
    "\n",
    "\n",
    "         "
   ]
  },
  {
   "cell_type": "markdown",
   "id": "e4842106-476b-4109-99f0-e540dd8f0d6c",
   "metadata": {},
   "source": [
    "Q5. Given a list my_list = [1, 2, 3, 4, 5], write the code to slice the list and obtain the sub-list [2, 3].\n",
    "\n",
    "Ans: my_list = [1,2,3,4,5]\n",
    "     sub_list = my_list[1:3]\n",
    "     print(sub_list)"
   ]
  },
  {
   "cell_type": "markdown",
   "id": "c3f16a50-797f-46ec-8680-f7f9e2dddf8e",
   "metadata": {},
   "source": [
    "Q6. What is a complex number in mathematics, and how is it represented in Python?\n",
    "\n",
    "Ans: In mathematics, a complex number is a number that comprises both a real part and an imaginary part. \n",
    "     It is represented in the form a + bi, where a is the real part, b is the imaginary part, and i is the imaginary unit (√-1). \n",
    "     The real part represents a position on the real number line, while the imaginary part represents a position on the imaginary number line.\n",
    "        \n",
    "    In Python, complex numbers are fully supported as a built-in data type. To represent a complex number, you can use the j or J suffix to denote\n",
    "    the imaginary part. The real and imaginary parts can be integers, floats, or a combination of both.\n",
    "    \n",
    "    Ex: z1 = 2 + 3j\n",
    "        z2 = 4.5 - 1j\n",
    "        z3 = 0 + 2j\n"
   ]
  },
  {
   "cell_type": "markdown",
   "id": "fbe00f24-a366-485e-8238-1187624490b1",
   "metadata": {},
   "source": [
    "Q7. What is the correct way to declare a variable named age and assign the value 25 to it?\n",
    "\n",
    "Ans: age = 25\n",
    "\n",
    "   In this code, the variable age is declared using the variable name age,\n",
    "   and the value 25 is assigned to it using the assignment operator (=).\n",
    "\n",
    "   The variable age now holds the value 25 and can be used later in the program for calculations\n",
    "   , comparisons, or any other operations that involve     the age variable.\n"
   ]
  },
  {
   "cell_type": "markdown",
   "id": "26e89de3-f310-4e03-9ad7-6805fe5a2b92",
   "metadata": {},
   "source": [
    "Q8. Declare a variable named price and assign the value 9.99 to it. What data type does this variable\n",
    "belong to?\n",
    "\n",
    "Ans: price = 9.99\n",
    "     \n",
    "    What data type does this variable\n",
    "    belong to?\n",
    "    \n",
    "    Ans: Float\n",
    "     "
   ]
  },
  {
   "cell_type": "markdown",
   "id": "140fd86d-3908-4824-938f-491bfa753942",
   "metadata": {},
   "source": [
    "Q9. Create a variable named name and assign your full name to it as a string. How would you print the\n",
    "value of this variable?\n",
    "\n",
    "Ans: name = \"Saksham pal\"\n",
    "\n",
    "     print(name)"
   ]
  },
  {
   "cell_type": "markdown",
   "id": "f042d560-918a-4f24-9952-8bff2618f27f",
   "metadata": {},
   "source": [
    "Q10. Given the string \"Hello, World!\", extract the substring \"World\".\n",
    "\n",
    "Ans: str = \"Hello, World!\"\n",
    "\n",
    "     substring = string[7:12]\n",
    "     \n",
    "     print(substring)\n",
    "     "
   ]
  },
  {
   "cell_type": "markdown",
   "id": "a93c9cdd-194c-48ab-9251-803a50f51fa9",
   "metadata": {},
   "source": [
    "Q11. Create a variable named \"is_student\" and assign it a boolean value indicating whether you are\n",
    "currently a student or not.\n",
    "\n",
    "Ans: is_student = True\n",
    "\n",
    "     if is_student == True:\n",
    "     \n",
    "     print(\"you are a currently a student\")\n",
    "     \n",
    "     else:\n",
    "     \n",
    "     print(\"you are not a student now\")"
   ]
  }
 ],
 "metadata": {
  "kernelspec": {
   "display_name": "Python 3 (ipykernel)",
   "language": "python",
   "name": "python3"
  },
  "language_info": {
   "codemirror_mode": {
    "name": "ipython",
    "version": 3
   },
   "file_extension": ".py",
   "mimetype": "text/x-python",
   "name": "python",
   "nbconvert_exporter": "python",
   "pygments_lexer": "ipython3",
   "version": "3.10.8"
  }
 },
 "nbformat": 4,
 "nbformat_minor": 5
}
